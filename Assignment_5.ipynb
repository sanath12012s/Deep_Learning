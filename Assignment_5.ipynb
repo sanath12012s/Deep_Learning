{
 "cells": [
  {
   "cell_type": "code",
   "execution_count": 2,
   "id": "3ea6f075",
   "metadata": {},
   "outputs": [],
   "source": [
    "import cv2\n",
    "import numpy as np"
   ]
  },
  {
   "cell_type": "code",
   "execution_count": 3,
   "id": "c101a418",
   "metadata": {},
   "outputs": [
    {
     "name": "stdout",
     "output_type": "stream",
     "text": [
      "EVENT_FLAG_ALTKEY\n",
      "EVENT_FLAG_CTRLKEY\n",
      "EVENT_FLAG_LBUTTON\n",
      "EVENT_FLAG_MBUTTON\n",
      "EVENT_FLAG_RBUTTON\n",
      "EVENT_FLAG_SHIFTKEY\n",
      "EVENT_LBUTTONDBLCLK\n",
      "EVENT_LBUTTONDOWN\n",
      "EVENT_LBUTTONUP\n",
      "EVENT_MBUTTONDBLCLK\n",
      "EVENT_MBUTTONDOWN\n",
      "EVENT_MBUTTONUP\n",
      "EVENT_MOUSEHWHEEL\n",
      "EVENT_MOUSEMOVE\n",
      "EVENT_MOUSEWHEEL\n",
      "EVENT_RBUTTONDBLCLK\n",
      "EVENT_RBUTTONDOWN\n",
      "EVENT_RBUTTONUP\n"
     ]
    }
   ],
   "source": [
    "for i in dir (cv2):\n",
    "    if \"EVENT\" in i:\n",
    "        print(i)"
   ]
  },
  {
   "cell_type": "code",
   "execution_count": 3,
   "id": "ea7bb2cd",
   "metadata": {},
   "outputs": [],
   "source": [
    "# creating exor\n",
    "dataset=[]\n",
    "def draw(event,x,y,flag,papam):\n",
    "    if event==cv2.EVENT_FLAG_LBUTTON:\n",
    "        dataset.append((x,y,0))\n",
    "        cv2.circle(img,(x,y),3,(255,0,0),3)\n",
    "    elif event==cv2.EVENT_FLAG_RBUTTON:\n",
    "        dataset.append((x,y,1))\n",
    "        cv2.circle(img,(x,y),3,(0,255,0),3)"
   ]
  },
  {
   "cell_type": "code",
   "execution_count": 4,
   "id": "436155df",
   "metadata": {},
   "outputs": [],
   "source": [
    "img=np.zeros((255,255,3),np.uint8)\n",
    "cv2.namedWindow('window name')\n",
    "cv2.setMouseCallback('window name',draw)   # mouse fn\n",
    "while True:\n",
    "    cv2.imshow('window name',img)\n",
    "    if cv2.waitKey(1) & 255==ord('p'):\n",
    "        break\n",
    "cv2.destroyAllWindows()"
   ]
  },
  {
   "cell_type": "code",
   "execution_count": 5,
   "id": "545cc438",
   "metadata": {},
   "outputs": [],
   "source": [
    "import pandas as pd"
   ]
  },
  {
   "cell_type": "code",
   "execution_count": 6,
   "id": "7dd6d7d9",
   "metadata": {},
   "outputs": [],
   "source": [
    "import keras"
   ]
  },
  {
   "cell_type": "code",
   "execution_count": 7,
   "id": "07b04ecf",
   "metadata": {},
   "outputs": [
    {
     "data": {
      "text/html": [
       "<div>\n",
       "<style scoped>\n",
       "    .dataframe tbody tr th:only-of-type {\n",
       "        vertical-align: middle;\n",
       "    }\n",
       "\n",
       "    .dataframe tbody tr th {\n",
       "        vertical-align: top;\n",
       "    }\n",
       "\n",
       "    .dataframe thead th {\n",
       "        text-align: right;\n",
       "    }\n",
       "</style>\n",
       "<table border=\"1\" class=\"dataframe\">\n",
       "  <thead>\n",
       "    <tr style=\"text-align: right;\">\n",
       "      <th></th>\n",
       "      <th>0</th>\n",
       "      <th>1</th>\n",
       "      <th>2</th>\n",
       "    </tr>\n",
       "  </thead>\n",
       "  <tbody>\n",
       "    <tr>\n",
       "      <th>0</th>\n",
       "      <td>10</td>\n",
       "      <td>56</td>\n",
       "      <td>0</td>\n",
       "    </tr>\n",
       "    <tr>\n",
       "      <th>1</th>\n",
       "      <td>23</td>\n",
       "      <td>55</td>\n",
       "      <td>0</td>\n",
       "    </tr>\n",
       "    <tr>\n",
       "      <th>2</th>\n",
       "      <td>38</td>\n",
       "      <td>51</td>\n",
       "      <td>0</td>\n",
       "    </tr>\n",
       "    <tr>\n",
       "      <th>3</th>\n",
       "      <td>49</td>\n",
       "      <td>40</td>\n",
       "      <td>0</td>\n",
       "    </tr>\n",
       "    <tr>\n",
       "      <th>4</th>\n",
       "      <td>59</td>\n",
       "      <td>33</td>\n",
       "      <td>0</td>\n",
       "    </tr>\n",
       "    <tr>\n",
       "      <th>...</th>\n",
       "      <td>...</td>\n",
       "      <td>...</td>\n",
       "      <td>...</td>\n",
       "    </tr>\n",
       "    <tr>\n",
       "      <th>318</th>\n",
       "      <td>200</td>\n",
       "      <td>16</td>\n",
       "      <td>1</td>\n",
       "    </tr>\n",
       "    <tr>\n",
       "      <th>319</th>\n",
       "      <td>187</td>\n",
       "      <td>4</td>\n",
       "      <td>1</td>\n",
       "    </tr>\n",
       "    <tr>\n",
       "      <th>320</th>\n",
       "      <td>230</td>\n",
       "      <td>8</td>\n",
       "      <td>1</td>\n",
       "    </tr>\n",
       "    <tr>\n",
       "      <th>321</th>\n",
       "      <td>78</td>\n",
       "      <td>198</td>\n",
       "      <td>1</td>\n",
       "    </tr>\n",
       "    <tr>\n",
       "      <th>322</th>\n",
       "      <td>56</td>\n",
       "      <td>239</td>\n",
       "      <td>1</td>\n",
       "    </tr>\n",
       "  </tbody>\n",
       "</table>\n",
       "<p>323 rows × 3 columns</p>\n",
       "</div>"
      ],
      "text/plain": [
       "       0    1  2\n",
       "0     10   56  0\n",
       "1     23   55  0\n",
       "2     38   51  0\n",
       "3     49   40  0\n",
       "4     59   33  0\n",
       "..   ...  ... ..\n",
       "318  200   16  1\n",
       "319  187    4  1\n",
       "320  230    8  1\n",
       "321   78  198  1\n",
       "322   56  239  1\n",
       "\n",
       "[323 rows x 3 columns]"
      ]
     },
     "execution_count": 7,
     "metadata": {},
     "output_type": "execute_result"
    }
   ],
   "source": [
    "pd.DataFrame(dataset)"
   ]
  },
  {
   "cell_type": "code",
   "execution_count": 8,
   "id": "dfa61897",
   "metadata": {},
   "outputs": [
    {
     "data": {
      "text/html": [
       "<div>\n",
       "<style scoped>\n",
       "    .dataframe tbody tr th:only-of-type {\n",
       "        vertical-align: middle;\n",
       "    }\n",
       "\n",
       "    .dataframe tbody tr th {\n",
       "        vertical-align: top;\n",
       "    }\n",
       "\n",
       "    .dataframe thead th {\n",
       "        text-align: right;\n",
       "    }\n",
       "</style>\n",
       "<table border=\"1\" class=\"dataframe\">\n",
       "  <thead>\n",
       "    <tr style=\"text-align: right;\">\n",
       "      <th></th>\n",
       "      <th>0</th>\n",
       "      <th>1</th>\n",
       "      <th>2</th>\n",
       "    </tr>\n",
       "  </thead>\n",
       "  <tbody>\n",
       "    <tr>\n",
       "      <th>0</th>\n",
       "      <td>10</td>\n",
       "      <td>56</td>\n",
       "      <td>0</td>\n",
       "    </tr>\n",
       "    <tr>\n",
       "      <th>1</th>\n",
       "      <td>23</td>\n",
       "      <td>55</td>\n",
       "      <td>0</td>\n",
       "    </tr>\n",
       "    <tr>\n",
       "      <th>2</th>\n",
       "      <td>38</td>\n",
       "      <td>51</td>\n",
       "      <td>0</td>\n",
       "    </tr>\n",
       "    <tr>\n",
       "      <th>3</th>\n",
       "      <td>49</td>\n",
       "      <td>40</td>\n",
       "      <td>0</td>\n",
       "    </tr>\n",
       "    <tr>\n",
       "      <th>4</th>\n",
       "      <td>59</td>\n",
       "      <td>33</td>\n",
       "      <td>0</td>\n",
       "    </tr>\n",
       "  </tbody>\n",
       "</table>\n",
       "</div>"
      ],
      "text/plain": [
       "    0   1  2\n",
       "0  10  56  0\n",
       "1  23  55  0\n",
       "2  38  51  0\n",
       "3  49  40  0\n",
       "4  59  33  0"
      ]
     },
     "execution_count": 8,
     "metadata": {},
     "output_type": "execute_result"
    }
   ],
   "source": [
    "df=pd.DataFrame(dataset)\n",
    "df.head()\n"
   ]
  },
  {
   "cell_type": "code",
   "execution_count": 9,
   "id": "54b5e77c",
   "metadata": {},
   "outputs": [],
   "source": [
    "df.columns=['int_col1','int_col2','Tar_col']"
   ]
  },
  {
   "cell_type": "code",
   "execution_count": 10,
   "id": "c767fff3",
   "metadata": {},
   "outputs": [
    {
     "data": {
      "text/html": [
       "<div>\n",
       "<style scoped>\n",
       "    .dataframe tbody tr th:only-of-type {\n",
       "        vertical-align: middle;\n",
       "    }\n",
       "\n",
       "    .dataframe tbody tr th {\n",
       "        vertical-align: top;\n",
       "    }\n",
       "\n",
       "    .dataframe thead th {\n",
       "        text-align: right;\n",
       "    }\n",
       "</style>\n",
       "<table border=\"1\" class=\"dataframe\">\n",
       "  <thead>\n",
       "    <tr style=\"text-align: right;\">\n",
       "      <th></th>\n",
       "      <th>int_col1</th>\n",
       "      <th>int_col2</th>\n",
       "      <th>Tar_col</th>\n",
       "    </tr>\n",
       "  </thead>\n",
       "  <tbody>\n",
       "    <tr>\n",
       "      <th>0</th>\n",
       "      <td>10</td>\n",
       "      <td>56</td>\n",
       "      <td>0</td>\n",
       "    </tr>\n",
       "    <tr>\n",
       "      <th>1</th>\n",
       "      <td>23</td>\n",
       "      <td>55</td>\n",
       "      <td>0</td>\n",
       "    </tr>\n",
       "    <tr>\n",
       "      <th>2</th>\n",
       "      <td>38</td>\n",
       "      <td>51</td>\n",
       "      <td>0</td>\n",
       "    </tr>\n",
       "    <tr>\n",
       "      <th>3</th>\n",
       "      <td>49</td>\n",
       "      <td>40</td>\n",
       "      <td>0</td>\n",
       "    </tr>\n",
       "    <tr>\n",
       "      <th>4</th>\n",
       "      <td>59</td>\n",
       "      <td>33</td>\n",
       "      <td>0</td>\n",
       "    </tr>\n",
       "  </tbody>\n",
       "</table>\n",
       "</div>"
      ],
      "text/plain": [
       "   int_col1  int_col2  Tar_col\n",
       "0        10        56        0\n",
       "1        23        55        0\n",
       "2        38        51        0\n",
       "3        49        40        0\n",
       "4        59        33        0"
      ]
     },
     "execution_count": 10,
     "metadata": {},
     "output_type": "execute_result"
    }
   ],
   "source": [
    "df.head()"
   ]
  },
  {
   "cell_type": "code",
   "execution_count": 11,
   "id": "f46737ff",
   "metadata": {},
   "outputs": [
    {
     "data": {
      "text/plain": [
       "0    171\n",
       "1    152\n",
       "Name: Tar_col, dtype: int64"
      ]
     },
     "execution_count": 11,
     "metadata": {},
     "output_type": "execute_result"
    }
   ],
   "source": [
    "df['Tar_col'].value_counts()"
   ]
  },
  {
   "cell_type": "code",
   "execution_count": 12,
   "id": "7abe8f34",
   "metadata": {},
   "outputs": [],
   "source": [
    "X=df[['int_col1','int_col2']]\n",
    "y=df['Tar_col'].astype('int')"
   ]
  },
  {
   "cell_type": "code",
   "execution_count": 48,
   "id": "00895e84",
   "metadata": {},
   "outputs": [],
   "source": [
    "from sklearn.model_selection import train_test_split\n",
    "X_train,X_test,y_train,y_test=train_test_split(X,y,test_size=0.25)"
   ]
  },
  {
   "cell_type": "code",
   "execution_count": 49,
   "id": "638c63fb",
   "metadata": {},
   "outputs": [],
   "source": [
    "from sklearn.preprocessing import StandardScaler\n",
    "std=StandardScaler()"
   ]
  },
  {
   "cell_type": "code",
   "execution_count": 50,
   "id": "a80f7f55",
   "metadata": {},
   "outputs": [],
   "source": [
    "from keras import Sequential\n",
    "from keras.layers import Dense,Dropout"
   ]
  },
  {
   "cell_type": "code",
   "execution_count": 51,
   "id": "c97e3d64",
   "metadata": {},
   "outputs": [],
   "source": [
    "from keras.regularizers import L1,L1L2,L2"
   ]
  },
  {
   "cell_type": "code",
   "execution_count": 52,
   "id": "c5a13bd6",
   "metadata": {},
   "outputs": [],
   "source": [
    "X_trainp=std.fit_transform(X_train)\n",
    "X_testp=std.transform(X_test)"
   ]
  },
  {
   "cell_type": "code",
   "execution_count": 141,
   "id": "d342f961",
   "metadata": {},
   "outputs": [],
   "source": [
    "model=Sequential()\n",
    "model.add(Dense(10,activation=\"tanh\",kernel_regularizer=L1(0.001),bias_regularizer=L1(0.001),input_dim=2))\n",
    "model.add(Dense(8,activation=\"tanh\",kernel_regularizer=L1(0.001),bias_regularizer=L1(0.001)))\n",
    "model.add(Dense(4,activation=\"tanh\",kernel_regularizer=L1(0.001),bias_regularizer=L1(0.001)))\n",
    "model.add(Dense(1,activation=\"sigmoid\",kernel_regularizer=L1(0.001),bias_regularizer=L1(0.001)))\n",
    "#model.add(Dense(1,activation=\"sigmoid\",kernel_regularizer=L1(0.01),bias_regularizer=L1(0.01)))"
   ]
  },
  {
   "cell_type": "code",
   "execution_count": 142,
   "id": "217cfd5c",
   "metadata": {},
   "outputs": [
    {
     "name": "stdout",
     "output_type": "stream",
     "text": [
      "Model: \"sequential_11\"\n",
      "_________________________________________________________________\n",
      " Layer (type)                Output Shape              Param #   \n",
      "=================================================================\n",
      " dense_43 (Dense)            (None, 10)                30        \n",
      "                                                                 \n",
      " dense_44 (Dense)            (None, 8)                 88        \n",
      "                                                                 \n",
      " dense_45 (Dense)            (None, 4)                 36        \n",
      "                                                                 \n",
      " dense_46 (Dense)            (None, 1)                 5         \n",
      "                                                                 \n",
      "=================================================================\n",
      "Total params: 159 (636.00 Byte)\n",
      "Trainable params: 159 (636.00 Byte)\n",
      "Non-trainable params: 0 (0.00 Byte)\n",
      "_________________________________________________________________\n"
     ]
    }
   ],
   "source": [
    "model.summary()"
   ]
  },
  {
   "cell_type": "code",
   "execution_count": 143,
   "id": "a4e4d10e",
   "metadata": {},
   "outputs": [],
   "source": [
    "model.compile(optimizer=SGD(learning_rate=0.1),loss=\"binary_crossentropy\",metrics=[\"accuracy\"])"
   ]
  },
  {
   "cell_type": "code",
   "execution_count": 144,
   "id": "901783e9",
   "metadata": {},
   "outputs": [
    {
     "data": {
      "text/plain": [
       "(242, 2)"
      ]
     },
     "execution_count": 144,
     "metadata": {},
     "output_type": "execute_result"
    }
   ],
   "source": [
    "X_train.shape"
   ]
  },
  {
   "cell_type": "code",
   "execution_count": 145,
   "id": "6a31520e",
   "metadata": {},
   "outputs": [
    {
     "data": {
      "text/plain": [
       "(242,)"
      ]
     },
     "execution_count": 145,
     "metadata": {},
     "output_type": "execute_result"
    }
   ],
   "source": [
    "y_train.shape"
   ]
  },
  {
   "cell_type": "code",
   "execution_count": 146,
   "id": "fb2636c1",
   "metadata": {},
   "outputs": [],
   "source": [
    "from keras.regularizers import L1,L1L2,L2\n",
    "from keras.optimizers import SGD"
   ]
  },
  {
   "cell_type": "code",
   "execution_count": 147,
   "id": "763fc30a",
   "metadata": {},
   "outputs": [
    {
     "name": "stdout",
     "output_type": "stream",
     "text": [
      "Epoch 1/20\n",
      "22/22 [==============================] - 2s 24ms/step - loss: 0.7533 - accuracy: 0.4931 - val_loss: 0.7382 - val_accuracy: 0.6000\n",
      "Epoch 2/20\n",
      "22/22 [==============================] - 0s 6ms/step - loss: 0.6919 - accuracy: 0.7281 - val_loss: 0.6923 - val_accuracy: 0.8000\n",
      "Epoch 3/20\n",
      "22/22 [==============================] - 0s 6ms/step - loss: 0.6356 - accuracy: 0.9263 - val_loss: 0.6306 - val_accuracy: 0.9600\n",
      "Epoch 4/20\n",
      "22/22 [==============================] - 0s 6ms/step - loss: 0.5667 - accuracy: 0.9539 - val_loss: 0.5692 - val_accuracy: 0.9600\n",
      "Epoch 5/20\n",
      "22/22 [==============================] - 0s 6ms/step - loss: 0.5042 - accuracy: 0.9677 - val_loss: 0.5105 - val_accuracy: 0.9600\n",
      "Epoch 6/20\n",
      "22/22 [==============================] - 0s 5ms/step - loss: 0.4511 - accuracy: 0.9677 - val_loss: 0.4677 - val_accuracy: 0.9600\n",
      "Epoch 7/20\n",
      "22/22 [==============================] - 0s 6ms/step - loss: 0.4082 - accuracy: 0.9631 - val_loss: 0.4249 - val_accuracy: 0.9600\n",
      "Epoch 8/20\n",
      "22/22 [==============================] - 0s 5ms/step - loss: 0.3737 - accuracy: 0.9631 - val_loss: 0.3793 - val_accuracy: 0.9600\n",
      "Epoch 9/20\n",
      "22/22 [==============================] - 0s 5ms/step - loss: 0.3468 - accuracy: 0.9677 - val_loss: 0.3484 - val_accuracy: 0.9600\n",
      "Epoch 10/20\n",
      "22/22 [==============================] - 0s 5ms/step - loss: 0.3241 - accuracy: 0.9677 - val_loss: 0.3236 - val_accuracy: 0.9600\n",
      "Epoch 11/20\n",
      "22/22 [==============================] - 0s 6ms/step - loss: 0.3050 - accuracy: 0.9677 - val_loss: 0.2939 - val_accuracy: 0.9600\n",
      "Epoch 12/20\n",
      "22/22 [==============================] - 0s 6ms/step - loss: 0.2933 - accuracy: 0.9677 - val_loss: 0.2820 - val_accuracy: 0.9600\n",
      "Epoch 13/20\n",
      "22/22 [==============================] - 0s 6ms/step - loss: 0.2803 - accuracy: 0.9677 - val_loss: 0.2821 - val_accuracy: 0.9600\n",
      "Epoch 14/20\n",
      "22/22 [==============================] - 0s 6ms/step - loss: 0.2662 - accuracy: 0.9677 - val_loss: 0.2770 - val_accuracy: 0.9600\n",
      "Epoch 15/20\n",
      "22/22 [==============================] - 0s 6ms/step - loss: 0.2569 - accuracy: 0.9677 - val_loss: 0.2600 - val_accuracy: 0.9600\n",
      "Epoch 16/20\n",
      "22/22 [==============================] - 0s 6ms/step - loss: 0.2457 - accuracy: 0.9677 - val_loss: 0.2528 - val_accuracy: 0.9600\n",
      "Epoch 17/20\n",
      "22/22 [==============================] - 0s 6ms/step - loss: 0.2405 - accuracy: 0.9677 - val_loss: 0.2491 - val_accuracy: 0.9600\n",
      "Epoch 18/20\n",
      "22/22 [==============================] - 0s 6ms/step - loss: 0.2344 - accuracy: 0.9677 - val_loss: 0.2435 - val_accuracy: 0.9600\n",
      "Epoch 19/20\n",
      "22/22 [==============================] - 0s 6ms/step - loss: 0.2295 - accuracy: 0.9677 - val_loss: 0.2242 - val_accuracy: 0.9600\n",
      "Epoch 20/20\n",
      "22/22 [==============================] - 0s 6ms/step - loss: 0.2229 - accuracy: 0.9677 - val_loss: 0.2333 - val_accuracy: 0.9600\n"
     ]
    }
   ],
   "source": [
    "history=model.fit(X_trainp,y_train,batch_size=10,epochs=20,validation_split=0.1)"
   ]
  },
  {
   "cell_type": "code",
   "execution_count": 148,
   "id": "774a2f5e",
   "metadata": {},
   "outputs": [],
   "source": [
    "import matplotlib.pyplot as plt"
   ]
  },
  {
   "cell_type": "code",
   "execution_count": 149,
   "id": "82eb0299",
   "metadata": {},
   "outputs": [
    {
     "data": {
      "text/plain": [
       "<matplotlib.legend.Legend at 0x18ecf65fbe0>"
      ]
     },
     "execution_count": 149,
     "metadata": {},
     "output_type": "execute_result"
    },
    {
     "data": {
      "image/png": "[encoded data removed]",
      "text/plain": [
       "<Figure size 640x480 with 1 Axes>"
      ]
     },
     "metadata": {},
     "output_type": "display_data"
    }
   ],
   "source": [
    "plt.plot(range(1,21),history.history[\"loss\"],label='training')\n",
    "plt.plot(range(1,21),history.history['val_loss'],label='validation')\n",
    "plt.legend()"
   ]
  },
  {
   "cell_type": "code",
   "execution_count": 150,
   "id": "4b5da1fe",
   "metadata": {},
   "outputs": [],
   "source": [
    "from mlxtend.plotting import plot_decision_regions"
   ]
  },
  {
   "cell_type": "code",
   "execution_count": 151,
   "id": "f30c7e9e",
   "metadata": {},
   "outputs": [
    {
     "name": "stdout",
     "output_type": "stream",
     "text": [
      "9600/9600 [==============================] - 25s 3ms/step\n"
     ]
    },
    {
     "data": {
      "text/plain": [
       "<AxesSubplot:>"
      ]
     },
     "execution_count": 151,
     "metadata": {},
     "output_type": "execute_result"
    },
    {
     "data": {
      "image/png": "[encoded data removed]",
      "text/plain": [
       "<Figure size 640x480 with 1 Axes>"
      ]
     },
     "metadata": {},
     "output_type": "display_data"
    }
   ],
   "source": [
    "plot_decision_regions(X_testp,y_test.values,clf=model)"
   ]
  },
  {
   "cell_type": "code",
   "execution_count": null,
   "id": "6ffd9a39",
   "metadata": {},
   "outputs": [],
   "source": []
  }
 ],
 "metadata": {
  "kernelspec": {
   "display_name": "Python 3 (ipykernel)",
   "language": "python",
   "name": "python3"
  },
  "language_info": {
   "codemirror_mode": {
    "name": "ipython",
    "version": 3
   },
   "file_extension": ".py",
   "mimetype": "text/x-python",
   "name": "python",
   "nbconvert_exporter": "python",
   "pygments_lexer": "ipython3",
   "version": "3.9.13"
  }
 },
 "nbformat": 4,
 "nbformat_minor": 5
}
