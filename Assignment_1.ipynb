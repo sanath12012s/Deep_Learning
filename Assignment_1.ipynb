{
 "cells": [
  {
   "cell_type": "code",
   "execution_count": 3,
   "id": "9ee36119",
   "metadata": {},
   "outputs": [],
   "source": [
    "import numpy as np"
   ]
  },
  {
   "cell_type": "code",
   "execution_count": 5,
   "id": "77b7b2f6",
   "metadata": {},
   "outputs": [
    {
     "name": "stdout",
     "output_type": "stream",
     "text": [
      "Inputs:\n",
      "input1: [0, 0, 1, 1]\n",
      "input2: [0, 1, 0, 1]\n",
      "Aggregation: [0 1 1 2]\n",
      "AND_method: [0, 0, 0, 1]\n",
      "OR_method: [0, 1, 1, 1]\n"
     ]
    }
   ],
   "source": [
    "def mcp(**kwargs):\n",
    "    inputs = [np.array(kwargs[key]) for key in kwargs]\n",
    "    aggregate = np.add(*inputs).astype(int)\n",
    "    \n",
    "    print('Inputs:')\n",
    "    for i, key in enumerate(kwargs):\n",
    "        print(f'{key}:', kwargs[key])\n",
    "    print(f'Aggregation: {aggregate}')\n",
    "\n",
    "    and_activation = []\n",
    "    for i in aggregate:\n",
    "        if i >= len(inputs):\n",
    "            and_activation.append(1)\n",
    "        else:\n",
    "            and_activation.append(0)\n",
    "    print('AND_method:', and_activation)\n",
    "\n",
    "    or_activation = []\n",
    "    for i in aggregate:\n",
    "        if i >= 1:\n",
    "            or_activation.append(1)\n",
    "        else:\n",
    "            or_activation.append(0)\n",
    "    print('OR_method:', or_activation)\n",
    "\n",
    "mcp(input1=[0, 0, 1, 1], input2=[0, 1, 0, 1])"
   ]
  },
  {
   "cell_type": "code",
   "execution_count": null,
   "id": "5613ba8b",
   "metadata": {},
   "outputs": [],
   "source": []
  }
 ],
 "metadata": {
  "kernelspec": {
   "display_name": "Python 3 (ipykernel)",
   "language": "python",
   "name": "python3"
  },
  "language_info": {
   "codemirror_mode": {
    "name": "ipython",
    "version": 3
   },
   "file_extension": ".py",
   "mimetype": "text/x-python",
   "name": "python",
   "nbconvert_exporter": "python",
   "pygments_lexer": "ipython3",
   "version": "3.9.13"
  }
 },
 "nbformat": 4,
 "nbformat_minor": 5
}
